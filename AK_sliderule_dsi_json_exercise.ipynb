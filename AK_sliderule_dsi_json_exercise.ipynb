{
 "cells": [
  {
   "cell_type": "markdown",
   "metadata": {},
   "source": [
    "****\n",
    "## JSON exercise\n",
    "\n",
    "Using data in file 'data/world_bank_projects.json' and the techniques demonstrated above,\n",
    "1. Find the 10 countries with most projects\n",
    "2. Find the top 10 major project themes (using column 'mjtheme_namecode')\n",
    "3. In 2. above you will notice that some entries have only the code and the name is missing. Create a dataframe with the missing names filled in."
   ]
  },
  {
   "cell_type": "markdown",
   "metadata": {},
   "source": [
    "## 1) Find the 10 countries with most projects"
   ]
  },
  {
   "cell_type": "code",
   "execution_count": 1,
   "metadata": {
    "collapsed": true
   },
   "outputs": [],
   "source": [
    "# Import the necessary libraries in order to complete tasks\n",
    "import pandas as pd\n",
    "import numpy as np\n",
    "import json\n",
    "from pandas.io.json import json_normalize"
   ]
  },
  {
   "cell_type": "code",
   "execution_count": 2,
   "metadata": {
    "collapsed": true
   },
   "outputs": [],
   "source": [
    "#Import file as pandas DataFrame\n",
    "wbp_df =  pd.read_json(\n",
    "    'D:\\Springboard DS\\data_wrangling_json\\data_wrangling_json\\data\\world_bank_projects.json')"
   ]
  },
  {
   "cell_type": "markdown",
   "metadata": {},
   "source": [
    "Find out details about the data: Shape (for the dimensions), info (for number of rows, columns, non-missing values \n",
    ", and the data type stored in each column), and head (for the first 5 rows)"
   ]
  },
  {
   "cell_type": "code",
   "execution_count": 3,
   "metadata": {},
   "outputs": [
    {
     "name": "stdout",
     "output_type": "stream",
     "text": [
      "(500, 50)\n",
      "--------\n",
      "<class 'pandas.core.frame.DataFrame'>\n",
      "RangeIndex: 500 entries, 0 to 499\n",
      "Data columns (total 50 columns):\n",
      "_id                         500 non-null object\n",
      "approvalfy                  500 non-null int64\n",
      "board_approval_month        500 non-null object\n",
      "boardapprovaldate           500 non-null object\n",
      "borrower                    485 non-null object\n",
      "closingdate                 370 non-null object\n",
      "country_namecode            500 non-null object\n",
      "countrycode                 500 non-null object\n",
      "countryname                 500 non-null object\n",
      "countryshortname            500 non-null object\n",
      "docty                       446 non-null object\n",
      "envassesmentcategorycode    430 non-null object\n",
      "grantamt                    500 non-null int64\n",
      "ibrdcommamt                 500 non-null int64\n",
      "id                          500 non-null object\n",
      "idacommamt                  500 non-null int64\n",
      "impagency                   472 non-null object\n",
      "lendinginstr                495 non-null object\n",
      "lendinginstrtype            495 non-null object\n",
      "lendprojectcost             500 non-null int64\n",
      "majorsector_percent         500 non-null object\n",
      "mjsector_namecode           500 non-null object\n",
      "mjtheme                     491 non-null object\n",
      "mjtheme_namecode            500 non-null object\n",
      "mjthemecode                 500 non-null object\n",
      "prodline                    500 non-null object\n",
      "prodlinetext                500 non-null object\n",
      "productlinetype             500 non-null object\n",
      "project_abstract            362 non-null object\n",
      "project_name                500 non-null object\n",
      "projectdocs                 446 non-null object\n",
      "projectfinancialtype        500 non-null object\n",
      "projectstatusdisplay        500 non-null object\n",
      "regionname                  500 non-null object\n",
      "sector                      500 non-null object\n",
      "sector1                     500 non-null object\n",
      "sector2                     380 non-null object\n",
      "sector3                     265 non-null object\n",
      "sector4                     174 non-null object\n",
      "sector_namecode             500 non-null object\n",
      "sectorcode                  500 non-null object\n",
      "source                      500 non-null object\n",
      "status                      500 non-null object\n",
      "supplementprojectflg        498 non-null object\n",
      "theme1                      500 non-null object\n",
      "theme_namecode              491 non-null object\n",
      "themecode                   491 non-null object\n",
      "totalamt                    500 non-null int64\n",
      "totalcommamt                500 non-null int64\n",
      "url                         500 non-null object\n",
      "dtypes: int64(7), object(43)\n",
      "memory usage: 195.4+ KB\n",
      "None\n",
      "--------\n",
      "                                    _id  approvalfy board_approval_month  \\\n",
      "0  {'$oid': '52b213b38594d8a2be17c780'}        1999             November   \n",
      "1  {'$oid': '52b213b38594d8a2be17c781'}        2015             November   \n",
      "2  {'$oid': '52b213b38594d8a2be17c782'}        2014             November   \n",
      "3  {'$oid': '52b213b38594d8a2be17c783'}        2014              October   \n",
      "4  {'$oid': '52b213b38594d8a2be17c784'}        2014              October   \n",
      "\n",
      "      boardapprovaldate                                 borrower  \\\n",
      "0  2013-11-12T00:00:00Z  FEDERAL DEMOCRATIC REPUBLIC OF ETHIOPIA   \n",
      "1  2013-11-04T00:00:00Z                    GOVERNMENT OF TUNISIA   \n",
      "2  2013-11-01T00:00:00Z   MINISTRY OF FINANCE AND ECONOMIC DEVEL   \n",
      "3  2013-10-31T00:00:00Z   MIN. OF PLANNING AND INT'L COOPERATION   \n",
      "4  2013-10-31T00:00:00Z                      MINISTRY OF FINANCE   \n",
      "\n",
      "            closingdate                              country_namecode  \\\n",
      "0  2018-07-07T00:00:00Z  Federal Democratic Republic of Ethiopia!$!ET   \n",
      "1                   NaN                      Republic of Tunisia!$!TN   \n",
      "2                   NaN                                   Tuvalu!$!TV   \n",
      "3                   NaN                        Republic of Yemen!$!RY   \n",
      "4  2019-04-30T00:00:00Z                       Kingdom of Lesotho!$!LS   \n",
      "\n",
      "  countrycode                              countryname    countryshortname  \\\n",
      "0          ET  Federal Democratic Republic of Ethiopia            Ethiopia   \n",
      "1          TN                      Republic of Tunisia             Tunisia   \n",
      "2          TV                                   Tuvalu              Tuvalu   \n",
      "3          RY                        Republic of Yemen  Yemen, Republic of   \n",
      "4          LS                       Kingdom of Lesotho             Lesotho   \n",
      "\n",
      "                         ...                           sectorcode source  \\\n",
      "0                        ...                          ET,BS,ES,EP   IBRD   \n",
      "1                        ...                                BZ,BS   IBRD   \n",
      "2                        ...                                   TI   IBRD   \n",
      "3                        ...                                   JB   IBRD   \n",
      "4                        ...                             FH,YW,YZ   IBRD   \n",
      "\n",
      "   status  supplementprojectflg  \\\n",
      "0  Active                     N   \n",
      "1  Active                     N   \n",
      "2  Active                     Y   \n",
      "3  Active                     N   \n",
      "4  Active                     N   \n",
      "\n",
      "                                              theme1  \\\n",
      "0      {'Percent': 100, 'Name': 'Education for all'}   \n",
      "1  {'Percent': 30, 'Name': 'Other economic manage...   \n",
      "2    {'Percent': 46, 'Name': 'Regional integration'}   \n",
      "3  {'Percent': 50, 'Name': 'Participation and civ...   \n",
      "4  {'Percent': 30, 'Name': 'Export development an...   \n",
      "\n",
      "                                      theme_namecode    themecode   totalamt  \\\n",
      "0      [{'code': '65', 'name': 'Education for all'}]           65  130000000   \n",
      "1  [{'code': '24', 'name': 'Other economic manage...        54,24          0   \n",
      "2  [{'code': '47', 'name': 'Regional integration'...  52,81,25,47    6060000   \n",
      "3  [{'code': '57', 'name': 'Participation and civ...        59,57          0   \n",
      "4  [{'code': '45', 'name': 'Export development an...        41,45   13100000   \n",
      "\n",
      "  totalcommamt                                                url  \n",
      "0    130000000  http://www.worldbank.org/projects/P129828/ethi...  \n",
      "1      4700000  http://www.worldbank.org/projects/P144674?lang=en  \n",
      "2      6060000  http://www.worldbank.org/projects/P145310?lang=en  \n",
      "3      1500000  http://www.worldbank.org/projects/P144665?lang=en  \n",
      "4     13100000  http://www.worldbank.org/projects/P144933/seco...  \n",
      "\n",
      "[5 rows x 50 columns]\n"
     ]
    }
   ],
   "source": [
    "print(wbp_df.shape)\n",
    "print('--------')\n",
    "print(wbp_df.info())\n",
    "print('--------')\n",
    "print(wbp_df.head())"
   ]
  },
  {
   "cell_type": "markdown",
   "metadata": {},
   "source": [
    "The countryname field is present for all entries. Counting the frequency of each country name, sorting the count in descending order and printing the first 10 entries will satisfy the first prompt: Find the 10 countries with most projects."
   ]
  },
  {
   "cell_type": "code",
   "execution_count": 4,
   "metadata": {},
   "outputs": [
    {
     "name": "stdout",
     "output_type": "stream",
     "text": [
      "People's Republic of China         19\n",
      "Republic of Indonesia              19\n",
      "Socialist Republic of Vietnam      17\n",
      "Republic of India                  16\n",
      "Republic of Yemen                  13\n",
      "Nepal                              12\n",
      "Kingdom of Morocco                 12\n",
      "People's Republic of Bangladesh    12\n",
      "Republic of Mozambique             11\n",
      "Africa                             11\n",
      "Name: countryname, dtype: int64\n"
     ]
    }
   ],
   "source": [
    "num_proj_country = wbp_df['countryname'].value_counts().sort_values(ascending = False)\n",
    "print(num_proj_country[:10])"
   ]
  },
  {
   "cell_type": "markdown",
   "metadata": {},
   "source": [
    "## 2) Find the top 10 major project themes (using column 'mjtheme_namecode')"
   ]
  },
  {
   "cell_type": "markdown",
   "metadata": {},
   "source": [
    "The second prompt will need more steps in order to extract the data of interest (top 10 major project themes (using column 'mjtheme_namecode')). "
   ]
  },
  {
   "cell_type": "code",
   "execution_count": 5,
   "metadata": {},
   "outputs": [
    {
     "name": "stdout",
     "output_type": "stream",
     "text": [
      "0      [{'code': '8', 'name': 'Human development'}, {...\n",
      "1      [{'code': '1', 'name': 'Economic management'},...\n",
      "2      [{'code': '5', 'name': 'Trade and integration'...\n",
      "3      [{'code': '7', 'name': 'Social dev/gender/incl...\n",
      "4      [{'code': '5', 'name': 'Trade and integration'...\n",
      "5      [{'code': '6', 'name': 'Social protection and ...\n",
      "6      [{'code': '2', 'name': 'Public sector governan...\n",
      "7      [{'code': '11', 'name': 'Environment and natur...\n",
      "8      [{'code': '10', 'name': 'Rural development'}, ...\n",
      "9      [{'code': '2', 'name': 'Public sector governan...\n",
      "10     [{'code': '10', 'name': 'Rural development'}, ...\n",
      "11     [{'code': '10', 'name': 'Rural development'}, ...\n",
      "12                           [{'code': '4', 'name': ''}]\n",
      "13     [{'code': '5', 'name': 'Trade and integration'...\n",
      "14     [{'code': '6', 'name': 'Social protection and ...\n",
      "15     [{'code': '10', 'name': 'Rural development'}, ...\n",
      "16     [{'code': '10', 'name': 'Rural development'}, ...\n",
      "17     [{'code': '8', 'name': 'Human development'}, {...\n",
      "18     [{'code': '8', 'name': 'Human development'}, {...\n",
      "19     [{'code': '2', 'name': 'Public sector governan...\n",
      "20     [{'code': '7', 'name': 'Social dev/gender/incl...\n",
      "21     [{'code': '9', 'name': 'Urban development'}, {...\n",
      "22     [{'code': '7', 'name': 'Social dev/gender/incl...\n",
      "23     [{'code': '8', 'name': 'Human development'}, {...\n",
      "24     [{'code': '10', 'name': 'Rural development'}, ...\n",
      "25     [{'code': '11', 'name': 'Environment and natur...\n",
      "26     [{'code': '4', 'name': 'Financial and private ...\n",
      "27     [{'code': '11', 'name': 'Environment and natur...\n",
      "28     [{'code': '10', 'name': 'Rural development'}, ...\n",
      "29     [{'code': '7', 'name': 'Social dev/gender/incl...\n",
      "                             ...                        \n",
      "470    [{'code': '5', 'name': 'Trade and integration'...\n",
      "471    [{'code': '10', 'name': 'Rural development'}, ...\n",
      "472    [{'code': '11', 'name': 'Environment and natur...\n",
      "473    [{'code': '11', 'name': 'Environment and natur...\n",
      "474    [{'code': '9', 'name': 'Urban development'}, {...\n",
      "475    [{'code': '4', 'name': 'Financial and private ...\n",
      "476    [{'code': '10', 'name': 'Rural development'}, ...\n",
      "477    [{'code': '4', 'name': 'Financial and private ...\n",
      "478    [{'code': '2', 'name': 'Public sector governan...\n",
      "479    [{'code': '7', 'name': 'Social dev/gender/incl...\n",
      "480    [{'code': '2', 'name': 'Public sector governan...\n",
      "481    [{'code': '8', 'name': 'Human development'}, {...\n",
      "482    [{'code': '10', 'name': 'Rural development'}, ...\n",
      "483    [{'code': '11', 'name': 'Environment and natur...\n",
      "484    [{'code': '10', 'name': 'Rural development'}, ...\n",
      "485    [{'code': '8', 'name': 'Human development'}, {...\n",
      "486    [{'code': '2', 'name': 'Public sector governan...\n",
      "487    [{'code': '11', 'name': 'Environment and natur...\n",
      "488    [{'code': '8', 'name': 'Human development'}, {...\n",
      "489    [{'code': '9', 'name': 'Urban development'}, {...\n",
      "490    [{'code': '2', 'name': 'Public sector governan...\n",
      "491    [{'code': '10', 'name': 'Rural development'}, ...\n",
      "492    [{'code': '8', 'name': 'Human development'}, {...\n",
      "493    [{'code': '11', 'name': 'Environment and natur...\n",
      "494    [{'code': '6', 'name': 'Social protection and ...\n",
      "495    [{'code': '4', 'name': 'Financial and private ...\n",
      "496    [{'code': '8', 'name': 'Human development'}, {...\n",
      "497    [{'code': '10', 'name': 'Rural development'}, ...\n",
      "498    [{'code': '10', 'name': 'Rural development'}, ...\n",
      "499    [{'code': '9', 'name': 'Urban development'}, {...\n",
      "Name: mjtheme_namecode, Length: 500, dtype: object\n"
     ]
    }
   ],
   "source": [
    "#Print 'mjtheme_namecode' to see structure, which is a dictionary\n",
    "print(wbp_df['mjtheme_namecode'])"
   ]
  },
  {
   "cell_type": "code",
   "execution_count": 6,
   "metadata": {
    "scrolled": true
   },
   "outputs": [
    {
     "name": "stdout",
     "output_type": "stream",
     "text": [
      "  code                                   name\n",
      "0    8                      Human development\n",
      "1   11                                       \n",
      "2    1                    Economic management\n",
      "3    6  Social protection and risk management\n",
      "4    5                  Trade and integration\n"
     ]
    }
   ],
   "source": [
    "#Extract 'mjtheme_namecode' into multiple columns using json_normalization\n",
    "wbp_list = json.load(open(\n",
    "    'D:\\Springboard DS\\data_wrangling_json\\data_wrangling_json\\data\\world_bank_projects.json'))\n",
    "\n",
    "mjtheme_namecode = json_normalize(wbp_list, 'mjtheme_namecode')\n",
    "\n",
    "#Print head to make sure data is in the proper format\n",
    "print(mjtheme_namecode.head())"
   ]
  },
  {
   "cell_type": "code",
   "execution_count": 7,
   "metadata": {},
   "outputs": [
    {
     "name": "stdout",
     "output_type": "stream",
     "text": [
      "Environment and natural resources management    223\n",
      "Rural development                               202\n",
      "Human development                               197\n",
      "Public sector governance                        184\n",
      "Social protection and risk management           158\n",
      "Financial and private sector development        130\n",
      "                                                122\n",
      "Social dev/gender/inclusion                     119\n",
      "Trade and integration                            72\n",
      "Urban development                                47\n",
      "Name: name, dtype: int64\n"
     ]
    }
   ],
   "source": [
    "#Find the top 10 themes\n",
    "theme_names = mjtheme_namecode['name'].value_counts().sort_values(ascending = False)\n",
    "print(theme_names[:10])"
   ]
  },
  {
   "cell_type": "markdown",
   "metadata": {},
   "source": [
    "## 3) Create a dataframe with the missing names filled in."
   ]
  },
  {
   "cell_type": "code",
   "execution_count": 8,
   "metadata": {},
   "outputs": [
    {
     "name": "stdout",
     "output_type": "stream",
     "text": [
      "<class 'pandas.core.frame.DataFrame'>\n",
      "RangeIndex: 1499 entries, 0 to 1498\n",
      "Data columns (total 2 columns):\n",
      "code    1499 non-null object\n",
      "name    1499 non-null object\n",
      "dtypes: object(2)\n",
      "memory usage: 23.5+ KB\n",
      "None\n"
     ]
    }
   ],
   "source": [
    "#Check the data type of each column\n",
    "print(mjtheme_namecode.info())"
   ]
  },
  {
   "cell_type": "code",
   "execution_count": 9,
   "metadata": {},
   "outputs": [
    {
     "name": "stdout",
     "output_type": "stream",
     "text": [
      "<class 'pandas.core.frame.DataFrame'>\n",
      "RangeIndex: 1499 entries, 0 to 1498\n",
      "Data columns (total 2 columns):\n",
      "code    1499 non-null int64\n",
      "name    1499 non-null object\n",
      "dtypes: int64(1), object(1)\n",
      "memory usage: 23.5+ KB\n",
      "None\n"
     ]
    }
   ],
   "source": [
    "#The code column is object instead of integer\n",
    "mjtheme_namecode['code'] = pd.to_numeric(mjtheme_namecode['code'])\n",
    "#Check to see if the data type has changed\n",
    "print(mjtheme_namecode.info())"
   ]
  },
  {
   "cell_type": "code",
   "execution_count": 10,
   "metadata": {},
   "outputs": [
    {
     "name": "stdout",
     "output_type": "stream",
     "text": [
      "      code                      name\n",
      "2        1       Economic management\n",
      "88       1       Economic management\n",
      "175      1       Economic management\n",
      "204      1       Economic management\n",
      "205      1       Economic management\n",
      "220      1       Economic management\n",
      "222      1       Economic management\n",
      "223      1       Economic management\n",
      "249      1       Economic management\n",
      "357      1       Economic management\n",
      "453      1       Economic management\n",
      "454      1       Economic management\n",
      "458      1       Economic management\n",
      "497      1       Economic management\n",
      "647      1       Economic management\n",
      "648      1       Economic management\n",
      "784      1       Economic management\n",
      "803      1       Economic management\n",
      "841      1       Economic management\n",
      "900      1       Economic management\n",
      "1010     1       Economic management\n",
      "1045     1       Economic management\n",
      "1056     1       Economic management\n",
      "1057     1       Economic management\n",
      "1078     1       Economic management\n",
      "1206     1       Economic management\n",
      "1212     1       Economic management\n",
      "1218     1       Economic management\n",
      "1229     1       Economic management\n",
      "1230     1       Economic management\n",
      "1235     1       Economic management\n",
      "1257     1       Economic management\n",
      "1260     1       Economic management\n",
      "212      1                       NaN\n",
      "363      1                       NaN\n",
      "1024     1                       NaN\n",
      "1114     1                       NaN\n",
      "1437     1                       NaN\n",
      "5        2  Public sector governance\n",
      "14       2  Public sector governance\n",
      "20       2  Public sector governance\n",
      "21       2  Public sector governance\n",
      "22       2  Public sector governance\n",
      "45       2  Public sector governance\n",
      "48       2  Public sector governance\n",
      "49       2  Public sector governance\n",
      "50       2  Public sector governance\n",
      "68       2  Public sector governance\n",
      "71       2  Public sector governance\n",
      "90       2  Public sector governance\n"
     ]
    }
   ],
   "source": [
    "#Now the data is ready to manipulate\n",
    "#First replace blank entries with NaN\n",
    "mjtheme_namecode_NaN = mjtheme_namecode.replace('', np.nan)\n",
    "\n",
    "#Sort based on code. First sort by code then on name\n",
    "mjtheme_namecode_NaN = mjtheme_namecode_NaN.sort_values(['code', 'name'])\n",
    "print(mjtheme_namecode_NaN[:50])"
   ]
  },
  {
   "cell_type": "code",
   "execution_count": 11,
   "metadata": {},
   "outputs": [
    {
     "name": "stdout",
     "output_type": "stream",
     "text": [
      "      code                      name\n",
      "2        1       Economic management\n",
      "88       1       Economic management\n",
      "175      1       Economic management\n",
      "204      1       Economic management\n",
      "205      1       Economic management\n",
      "220      1       Economic management\n",
      "222      1       Economic management\n",
      "223      1       Economic management\n",
      "249      1       Economic management\n",
      "357      1       Economic management\n",
      "453      1       Economic management\n",
      "454      1       Economic management\n",
      "458      1       Economic management\n",
      "497      1       Economic management\n",
      "647      1       Economic management\n",
      "648      1       Economic management\n",
      "784      1       Economic management\n",
      "803      1       Economic management\n",
      "841      1       Economic management\n",
      "900      1       Economic management\n",
      "1010     1       Economic management\n",
      "1045     1       Economic management\n",
      "1056     1       Economic management\n",
      "1057     1       Economic management\n",
      "1078     1       Economic management\n",
      "1206     1       Economic management\n",
      "1212     1       Economic management\n",
      "1218     1       Economic management\n",
      "1229     1       Economic management\n",
      "1230     1       Economic management\n",
      "1235     1       Economic management\n",
      "1257     1       Economic management\n",
      "1260     1       Economic management\n",
      "212      1       Economic management\n",
      "363      1       Economic management\n",
      "1024     1       Economic management\n",
      "1114     1       Economic management\n",
      "1437     1       Economic management\n",
      "5        2  Public sector governance\n",
      "14       2  Public sector governance\n",
      "20       2  Public sector governance\n",
      "21       2  Public sector governance\n",
      "22       2  Public sector governance\n",
      "45       2  Public sector governance\n",
      "48       2  Public sector governance\n",
      "49       2  Public sector governance\n",
      "50       2  Public sector governance\n",
      "68       2  Public sector governance\n",
      "71       2  Public sector governance\n",
      "90       2  Public sector governance\n"
     ]
    }
   ],
   "source": [
    "#We see that that the NaN entries occur at the end of the of the entries with code = 1\n",
    "#Using ffill will insert the last valid value to the NaN entries\n",
    "mjtheme_namecode_full = mjtheme_namecode_NaN.fillna(method='ffill')\n",
    "#Check that the theory is correct\n",
    "print(mjtheme_namecode_full.head(50))"
   ]
  },
  {
   "cell_type": "code",
   "execution_count": 12,
   "metadata": {
    "scrolled": true
   },
   "outputs": [
    {
     "name": "stdout",
     "output_type": "stream",
     "text": [
      "<class 'pandas.core.frame.DataFrame'>\n",
      "Int64Index: 1499 entries, 2 to 1477\n",
      "Data columns (total 2 columns):\n",
      "code    1499 non-null int64\n",
      "name    1499 non-null object\n",
      "dtypes: int64(1), object(1)\n",
      "memory usage: 35.1+ KB\n",
      "None\n"
     ]
    }
   ],
   "source": [
    "#Check that there are no null entries\n",
    "print(mjtheme_namecode_full.info())"
   ]
  },
  {
   "cell_type": "code",
   "execution_count": 13,
   "metadata": {},
   "outputs": [
    {
     "name": "stdout",
     "output_type": "stream",
     "text": [
      "Environment and natural resources management    250\n",
      "Rural development                               216\n",
      "Human development                               210\n",
      "Public sector governance                        199\n",
      "Social protection and risk management           168\n",
      "Financial and private sector development        146\n",
      "Social dev/gender/inclusion                     130\n",
      "Trade and integration                            77\n",
      "Urban development                                50\n",
      "Economic management                              38\n",
      "Name: name, dtype: int64\n"
     ]
    }
   ],
   "source": [
    "#Redo analysis for prompt two to see correct top 10 themes\n",
    "theme_names_full =mjtheme_namecode_full['name'].value_counts().sort_values(ascending = False)\n",
    "print(theme_names_full[:10])"
   ]
  }
 ],
 "metadata": {
  "kernelspec": {
   "display_name": "Python 3",
   "language": "python",
   "name": "python3"
  },
  "language_info": {
   "codemirror_mode": {
    "name": "ipython",
    "version": 3
   },
   "file_extension": ".py",
   "mimetype": "text/x-python",
   "name": "python",
   "nbconvert_exporter": "python",
   "pygments_lexer": "ipython3",
   "version": "3.6.1"
  }
 },
 "nbformat": 4,
 "nbformat_minor": 1
}
